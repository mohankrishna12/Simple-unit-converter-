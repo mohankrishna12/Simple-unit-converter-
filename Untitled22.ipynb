{
  "nbformat": 4,
  "nbformat_minor": 0,
  "metadata": {
    "colab": {
      "provenance": [],
      "authorship_tag": "ABX9TyNcBcaM1pibmN1BcL68iz8/",
      "include_colab_link": true
    },
    "kernelspec": {
      "name": "python3",
      "display_name": "Python 3"
    },
    "language_info": {
      "name": "python"
    }
  },
  "cells": [
    {
      "cell_type": "markdown",
      "metadata": {
        "id": "view-in-github",
        "colab_type": "text"
      },
      "source": [
        "<a href=\"https://colab.research.google.com/github/mohankrishna12/Simple-unit-converter-/blob/main/Untitled22.ipynb\" target=\"_parent\"><img src=\"https://colab.research.google.com/assets/colab-badge.svg\" alt=\"Open In Colab\"/></a>"
      ]
    },
    {
      "cell_type": "code",
      "execution_count": null,
      "metadata": {
        "colab": {
          "base_uri": "https://localhost:8080/"
        },
        "id": "zMi4bgmnjXH2",
        "outputId": "853422ed-d633-4749-b86a-4ec393b5613e"
      },
      "outputs": [
        {
          "output_type": "stream",
          "name": "stdout",
          "text": [
            "Unit Converter: Kilometers <-> Miles\n",
            "1. Kilometers to Miles\n",
            "2. Miles to Kilometers\n"
          ]
        }
      ],
      "source": [
        "def km_to_miles(km):\n",
        "    return km * 0.621371\n",
        "\n",
        "def miles_to_km(miles):\n",
        "    return miles / 0.621371\n",
        "\n",
        "def main():\n",
        "    print(\"Unit Converter: Kilometers <-> Miles\")\n",
        "    print(\"1. Kilometers to Miles\")\n",
        "    print(\"2. Miles to Kilometers\")\n",
        "    choice = input(\"Choose conversion (1 or 2): \")\n",
        "\n",
        "    try:\n",
        "        if choice == '1':\n",
        "            km = float(input(\"Enter distance in kilometers: \"))\n",
        "            print(f\"{km} km is {km_to_miles(km):.3f} miles\")\n",
        "        elif choice == '2':\n",
        "            miles = float(input(\"Enter distance in miles: \"))\n",
        "            print(f\"{miles} miles is {miles_to_km(miles):.3f} kilometers\")\n",
        "        else:\n",
        "            print(\"Invalid choice. Please select '1' or '2'.\")\n",
        "    except ValueError:\n",
        "        print(\"Please enter a valid number.\")\n",
        "\n",
        "if __name__ == \"__main__\":\n",
        "    main()"
      ]
    }
  ]
}